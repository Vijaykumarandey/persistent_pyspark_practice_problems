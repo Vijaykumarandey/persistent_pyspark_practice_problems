{
  "nbformat": 4,
  "nbformat_minor": 0,
  "metadata": {
    "colab": {
      "provenance": []
    },
    "kernelspec": {
      "name": "python3",
      "display_name": "Python 3"
    },
    "language_info": {
      "name": "python"
    }
  },
  "cells": [
    {
      "cell_type": "code",
      "execution_count": 11,
      "metadata": {
        "colab": {
          "base_uri": "https://localhost:8080/"
        },
        "id": "P2Em2_oxWIno",
        "outputId": "55914f02-1be5-45d1-8fc3-62252da65806"
      },
      "outputs": [
        {
          "output_type": "stream",
          "name": "stdout",
          "text": [
            "+----------+----+------+----------------+\n",
            "|     house|year|points|         student|\n",
            "+----------+----+------+----------------+\n",
            "|Gryffindor|   1|    80|    Harry Potter|\n",
            "| Slytherin|   1|    60|    Draco Malfoy|\n",
            "| Ravenclaw|   1|    45|   Luna Lovegood|\n",
            "|Hufflepuff|   1|    30|  Cedric Diggory|\n",
            "|Gryffindor|   2|    90|Hermione Granger|\n",
            "| Slytherin|   2|    70| Pansy Parkinson|\n",
            "| Ravenclaw|   2|    55|       Cho Chang|\n",
            "|Hufflepuff|   2|    65|   Hannah Abbott|\n",
            "|Gryffindor|   3|    20|     Ron Weasley|\n",
            "| Slytherin|   3|    85|   Blaise Zabini|\n",
            "+----------+----+------+----------------+\n",
            "\n"
          ]
        }
      ],
      "source": [
        "from pyspark.sql import SparkSession\n",
        "\n",
        "spark = SparkSession.builder.appName(\"problems\").getOrCreate()\n",
        "\n",
        "data = [\n",
        "    (\"Gryffindor\", 1, 80, \"Harry Potter\"),\n",
        "    (\"Slytherin\", 1, 60, \"Draco Malfoy\"),\n",
        "    (\"Ravenclaw\", 1, 45, \"Luna Lovegood\"),\n",
        "    (\"Hufflepuff\", 1, 30, \"Cedric Diggory\"),\n",
        "    (\"Gryffindor\", 2, 90, \"Hermione Granger\"),\n",
        "    (\"Slytherin\", 2, 70, \"Pansy Parkinson\"),\n",
        "    (\"Ravenclaw\", 2, 55, \"Cho Chang\"),\n",
        "    (\"Hufflepuff\", 2, 65, \"Hannah Abbott\"),\n",
        "    (\"Gryffindor\", 3, 20, \"Ron Weasley\"),\n",
        "    (\"Slytherin\", 3, 85, \"Blaise Zabini\")\n",
        "]\n",
        "\n",
        "columns = [\"house\", \"year\", \"points\", \"student\"]\n",
        "df = spark.createDataFrame(data, columns)\n",
        "df.show()"
      ]
    },
    {
      "cell_type": "code",
      "source": [
        "from pyspark.sql import functions as F\n",
        "\n",
        "selected_df = df.select(\"house\", \"year\", \"points\")\n",
        "\n",
        "filtered_df = selected_df.filter(selected_df.points > 50)\n",
        "\n",
        "grouped_df = filtered_df.groupBy(\"house\", \"year\").agg(F.sum(\"points\").alias(\"total_points\"))\n",
        "\n",
        "result_df = grouped_df.orderBy(\"year\", F.desc(\"total_points\"))\n",
        "\n",
        "result_df.show()\n"
      ],
      "metadata": {
        "colab": {
          "base_uri": "https://localhost:8080/"
        },
        "id": "GqYeiY-LXaWJ",
        "outputId": "f57f1416-2db7-4bd9-9b7f-0c231c014986"
      },
      "execution_count": 23,
      "outputs": [
        {
          "output_type": "stream",
          "name": "stdout",
          "text": [
            "+----------+----+------------+\n",
            "|     house|year|total_points|\n",
            "+----------+----+------------+\n",
            "|Gryffindor|   1|          80|\n",
            "| Slytherin|   1|          60|\n",
            "|Gryffindor|   2|          90|\n",
            "| Slytherin|   2|          70|\n",
            "|Hufflepuff|   2|          65|\n",
            "| Ravenclaw|   2|          55|\n",
            "| Slytherin|   3|          85|\n",
            "+----------+----+------------+\n",
            "\n"
          ]
        }
      ]
    },
    {
      "cell_type": "code",
      "source": [
        "data = [\n",
        "    (\"Aragorn\", \"Human\", 10, 2, \"Helms Deep\"),\n",
        "    (\"Legolas\", \"Elf\", 15, 0, \"Helms Deep\"),\n",
        "    (\"Gimli\", \"Dwarf\", 8, 3, \"Helms Deep\"),\n",
        "    (\"Frodo\", \"Hobbit\", 2, 1, \"Moria\"),\n",
        "    (\"Sam\", \"Hobbit\", 4, 2, \"Moria\"),\n",
        "    (\"Gandalf\", \"Wizard\", 12, 1, \"Moria\"),\n",
        "    (\"Boromir\", \"Human\", 7, 4, \"Amon Hen\"),\n",
        "    (\"Legolas\", \"Elf\", 20, 0, \"Amon Hen\"),\n",
        "    (\"Aragorn\", \"Human\", 9, 2, \"Amon Hen\")\n",
        "]\n",
        "\n",
        "columns = [\"name\", \"race\", \"enemies_defeated\", \"injuries\", \"battle\"]\n",
        "df1 = spark.createDataFrame(data, columns)\n",
        "df1.show()"
      ],
      "metadata": {
        "colab": {
          "base_uri": "https://localhost:8080/"
        },
        "id": "ImhtmHfwXyzR",
        "outputId": "fcf0d86b-5582-420c-e3b9-ab847ae42686"
      },
      "execution_count": 15,
      "outputs": [
        {
          "output_type": "stream",
          "name": "stdout",
          "text": [
            "+-------+------+----------------+--------+----------+\n",
            "|   name|  race|enemies_defeated|injuries|    battle|\n",
            "+-------+------+----------------+--------+----------+\n",
            "|Aragorn| Human|              10|       2|Helms Deep|\n",
            "|Legolas|   Elf|              15|       0|Helms Deep|\n",
            "|  Gimli| Dwarf|               8|       3|Helms Deep|\n",
            "|  Frodo|Hobbit|               2|       1|     Moria|\n",
            "|    Sam|Hobbit|               4|       2|     Moria|\n",
            "|Gandalf|Wizard|              12|       1|     Moria|\n",
            "|Boromir| Human|               7|       4|  Amon Hen|\n",
            "|Legolas|   Elf|              20|       0|  Amon Hen|\n",
            "|Aragorn| Human|               9|       2|  Amon Hen|\n",
            "+-------+------+----------------+--------+----------+\n",
            "\n"
          ]
        }
      ]
    },
    {
      "cell_type": "code",
      "source": [
        "# from pyspark.sql import functions as F\n",
        "\n",
        "selected_df = df1.select(\"name\", \"race\", \"enemies_defeated\")\n",
        "\n",
        "filtered_df = selected_df.filter(selected_df.enemies_defeated > 5)\n",
        "\n",
        "avg_df = filtered_df.groupBy(\"race\").agg(F.avg(\"enemies_defeated\").alias(\"avg_enemies_defeated\"))\n",
        "\n",
        "result_df = avg_df.orderBy(F.desc(\"avg_enemies_defeated\"))\n",
        "\n",
        "result_df.show()\n"
      ],
      "metadata": {
        "colab": {
          "base_uri": "https://localhost:8080/"
        },
        "id": "uaou7lxaYvxz",
        "outputId": "94112e18-f8ed-43b0-81cb-5d954886b965"
      },
      "execution_count": 29,
      "outputs": [
        {
          "output_type": "stream",
          "name": "stdout",
          "text": [
            "+------+--------------------+\n",
            "|  race|avg_enemies_defeated|\n",
            "+------+--------------------+\n",
            "|   Elf|                17.5|\n",
            "|Wizard|                12.0|\n",
            "| Human|   8.666666666666666|\n",
            "| Dwarf|                 8.0|\n",
            "+------+--------------------+\n",
            "\n"
          ]
        }
      ]
    },
    {
      "cell_type": "code",
      "source": [
        "data = [\n",
        "    (\"SUB-01\", \"Pacific Strike\", 5, \"Success\"),\n",
        "    (\"SUB-02\", \"Atlantic Surge\", 2, \"Failure\"),\n",
        "    (\"SUB-01\", \"Arctic Blitz\", 4, \"Success\"),\n",
        "    (\"SUB-03\", \"Indian Ocean\", 6, \"Success\"),\n",
        "    (\"SUB-02\", \"Pacific Strike\", 3, \"Success\"),\n",
        "    (\"SUB-01\", \"Coral Sea\", 7, \"Success\"),\n",
        "    (\"SUB-03\", \"Arctic Blitz\", 1, \"Failure\"),\n",
        "    (\"SUB-02\", \"Bering Strait\", 5, \"Success\")\n",
        "]\n",
        "\n",
        "columns = [\"submarine_id\", \"mission_name\", \"warheads_launched\", \"status\"]\n",
        "df2 = spark.createDataFrame(data, columns)\n",
        "df2.show()"
      ],
      "metadata": {
        "colab": {
          "base_uri": "https://localhost:8080/"
        },
        "id": "vDCbZuJLZGKj",
        "outputId": "b75e2c06-c637-4e21-a695-f9ec5befdec4"
      },
      "execution_count": 17,
      "outputs": [
        {
          "output_type": "stream",
          "name": "stdout",
          "text": [
            "+------------+--------------+-----------------+-------+\n",
            "|submarine_id|  mission_name|warheads_launched| status|\n",
            "+------------+--------------+-----------------+-------+\n",
            "|      SUB-01|Pacific Strike|                5|Success|\n",
            "|      SUB-02|Atlantic Surge|                2|Failure|\n",
            "|      SUB-01|  Arctic Blitz|                4|Success|\n",
            "|      SUB-03|  Indian Ocean|                6|Success|\n",
            "|      SUB-02|Pacific Strike|                3|Success|\n",
            "|      SUB-01|     Coral Sea|                7|Success|\n",
            "|      SUB-03|  Arctic Blitz|                1|Failure|\n",
            "|      SUB-02| Bering Strait|                5|Success|\n",
            "+------------+--------------+-----------------+-------+\n",
            "\n"
          ]
        }
      ]
    },
    {
      "cell_type": "code",
      "source": [
        "# from pyspark.sql import functions as F\n",
        "selected_df = df2.select(\"submarine_id\",\"mission_name\",\"warheads_launched\")\n",
        "filtered_df = selected_df.filter(\n",
        "    (F.col(\"warheads_launched\") > 3) & (F.col(\"status\") == \"Success\")\n",
        ")\n",
        "grouped_df = filtered_df.groupBy(\"submarine_id\").agg(\n",
        "    F.count(\"mission_name\").alias(\"total_missions\"),\n",
        "    F.sum(\"warheads_launched\").alias(\"total_warheads\")\n",
        ")\n",
        "result_df = grouped_df.orderBy(F.desc(\"total_warheads\"))\n",
        "result_df.show()"
      ],
      "metadata": {
        "colab": {
          "base_uri": "https://localhost:8080/"
        },
        "id": "-i_kvaJQZNRK",
        "outputId": "a0898716-58de-49cf-d805-da05ac414bc8"
      },
      "execution_count": 28,
      "outputs": [
        {
          "output_type": "stream",
          "name": "stdout",
          "text": [
            "+------------+--------------+--------------+\n",
            "|submarine_id|total_missions|total_warheads|\n",
            "+------------+--------------+--------------+\n",
            "|      SUB-01|             3|            16|\n",
            "|      SUB-03|             1|             6|\n",
            "|      SUB-02|             1|             5|\n",
            "+------------+--------------+--------------+\n",
            "\n"
          ]
        }
      ]
    },
    {
      "cell_type": "code",
      "source": [
        "\n"
      ],
      "metadata": {
        "id": "jlwfybodeB8u"
      },
      "execution_count": 26,
      "outputs": []
    }
  ]
}